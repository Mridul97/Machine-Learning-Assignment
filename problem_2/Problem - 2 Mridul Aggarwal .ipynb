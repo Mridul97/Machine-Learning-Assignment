{
 "cells": [
  {
   "cell_type": "markdown",
   "metadata": {},
   "source": [
    "# Importing Libraries"
   ]
  },
  {
   "cell_type": "code",
   "execution_count": 1,
   "metadata": {},
   "outputs": [],
   "source": [
    "import pandas as pd\n",
    "import numpy as np\n",
    "from sklearn import metrics\n",
    "import matplotlib.pyplot as plt\n",
    "from sklearn.preprocessing import StandardScaler\n",
    "import seaborn as sns"
   ]
  },
  {
   "cell_type": "markdown",
   "metadata": {},
   "source": [
    "# Data Analysis"
   ]
  },
  {
   "cell_type": "code",
   "execution_count": 2,
   "metadata": {},
   "outputs": [],
   "source": [
    "df_train = pd.read_csv('problem_2_train.csv')\n",
    "df_test = pd.read_csv('problem_2_test.csv')"
   ]
  },
  {
   "cell_type": "code",
   "execution_count": 3,
   "metadata": {},
   "outputs": [
    {
     "name": "stdout",
     "output_type": "stream",
     "text": [
      "(6250, 16)\n",
      "(2116, 15)\n"
     ]
    }
   ],
   "source": [
    "print(df_train.shape)\n",
    "print(df_test.shape)"
   ]
  },
  {
   "cell_type": "code",
   "execution_count": 4,
   "metadata": {},
   "outputs": [
    {
     "data": {
      "text/html": [
       "<div>\n",
       "<style scoped>\n",
       "    .dataframe tbody tr th:only-of-type {\n",
       "        vertical-align: middle;\n",
       "    }\n",
       "\n",
       "    .dataframe tbody tr th {\n",
       "        vertical-align: top;\n",
       "    }\n",
       "\n",
       "    .dataframe thead th {\n",
       "        text-align: right;\n",
       "    }\n",
       "</style>\n",
       "<table border=\"1\" class=\"dataframe\">\n",
       "  <thead>\n",
       "    <tr style=\"text-align: right;\">\n",
       "      <th></th>\n",
       "      <th>srno</th>\n",
       "      <th>mobmake</th>\n",
       "      <th>hubid</th>\n",
       "      <th>hubpincode</th>\n",
       "      <th>pickuppartnerid</th>\n",
       "      <th>deliverypartnerid</th>\n",
       "      <th>insuranceCompanyId</th>\n",
       "      <th>custpincodecategory</th>\n",
       "      <th>claimtype</th>\n",
       "      <th>custpincode</th>\n",
       "      <th>memcreateddate</th>\n",
       "      <th>mobilepurchasedate</th>\n",
       "      <th>claimintdate</th>\n",
       "      <th>servicecntrid</th>\n",
       "      <th>pickupStartdate</th>\n",
       "      <th>tat_in_days</th>\n",
       "    </tr>\n",
       "  </thead>\n",
       "  <tbody>\n",
       "    <tr>\n",
       "      <th>0</th>\n",
       "      <td>2851218</td>\n",
       "      <td>AN</td>\n",
       "      <td>7</td>\n",
       "      <td>500004</td>\n",
       "      <td>233</td>\n",
       "      <td>233</td>\n",
       "      <td>131</td>\n",
       "      <td>A</td>\n",
       "      <td>ADLD</td>\n",
       "      <td>500001</td>\n",
       "      <td>2017-04-27</td>\n",
       "      <td>2016-12-02</td>\n",
       "      <td>2018-02-08</td>\n",
       "      <td>4403</td>\n",
       "      <td>2018-02-13</td>\n",
       "      <td>5.0</td>\n",
       "    </tr>\n",
       "    <tr>\n",
       "      <th>1</th>\n",
       "      <td>2838330</td>\n",
       "      <td>AJ</td>\n",
       "      <td>10</td>\n",
       "      <td>226010</td>\n",
       "      <td>233</td>\n",
       "      <td>233</td>\n",
       "      <td>131</td>\n",
       "      <td>A</td>\n",
       "      <td>ADLD</td>\n",
       "      <td>226022</td>\n",
       "      <td>2017-03-06</td>\n",
       "      <td>2017-03-05</td>\n",
       "      <td>2018-02-04</td>\n",
       "      <td>4444</td>\n",
       "      <td>2018-02-08</td>\n",
       "      <td>12.0</td>\n",
       "    </tr>\n",
       "    <tr>\n",
       "      <th>2</th>\n",
       "      <td>2835781</td>\n",
       "      <td>AJ</td>\n",
       "      <td>2</td>\n",
       "      <td>110018</td>\n",
       "      <td>233</td>\n",
       "      <td>233</td>\n",
       "      <td>228</td>\n",
       "      <td>A</td>\n",
       "      <td>ADLD</td>\n",
       "      <td>110018</td>\n",
       "      <td>2018-02-01</td>\n",
       "      <td>2018-01-27</td>\n",
       "      <td>2018-02-03</td>\n",
       "      <td>4388</td>\n",
       "      <td>2018-02-12</td>\n",
       "      <td>9.0</td>\n",
       "    </tr>\n",
       "    <tr>\n",
       "      <th>3</th>\n",
       "      <td>2838589</td>\n",
       "      <td>AM</td>\n",
       "      <td>2</td>\n",
       "      <td>110018</td>\n",
       "      <td>233</td>\n",
       "      <td>233</td>\n",
       "      <td>228</td>\n",
       "      <td>B</td>\n",
       "      <td>ADLD</td>\n",
       "      <td>124001</td>\n",
       "      <td>2018-01-17</td>\n",
       "      <td>2018-01-31</td>\n",
       "      <td>2018-02-04</td>\n",
       "      <td>4092</td>\n",
       "      <td>2018-02-14</td>\n",
       "      <td>9.0</td>\n",
       "    </tr>\n",
       "    <tr>\n",
       "      <th>4</th>\n",
       "      <td>2855214</td>\n",
       "      <td>AN</td>\n",
       "      <td>21</td>\n",
       "      <td>110015</td>\n",
       "      <td>233</td>\n",
       "      <td>233</td>\n",
       "      <td>131</td>\n",
       "      <td>A</td>\n",
       "      <td>ADLD</td>\n",
       "      <td>201301</td>\n",
       "      <td>2018-01-23</td>\n",
       "      <td>2018-01-20</td>\n",
       "      <td>2018-02-09</td>\n",
       "      <td>4580</td>\n",
       "      <td>2018-02-14</td>\n",
       "      <td>8.0</td>\n",
       "    </tr>\n",
       "  </tbody>\n",
       "</table>\n",
       "</div>"
      ],
      "text/plain": [
       "      srno mobmake  hubid  hubpincode  pickuppartnerid  deliverypartnerid  \\\n",
       "0  2851218      AN      7      500004              233                233   \n",
       "1  2838330      AJ     10      226010              233                233   \n",
       "2  2835781      AJ      2      110018              233                233   \n",
       "3  2838589      AM      2      110018              233                233   \n",
       "4  2855214      AN     21      110015              233                233   \n",
       "\n",
       "   insuranceCompanyId custpincodecategory claimtype  custpincode  \\\n",
       "0                 131                   A      ADLD       500001   \n",
       "1                 131                   A      ADLD       226022   \n",
       "2                 228                   A      ADLD       110018   \n",
       "3                 228                   B      ADLD       124001   \n",
       "4                 131                   A      ADLD       201301   \n",
       "\n",
       "  memcreateddate mobilepurchasedate claimintdate  servicecntrid  \\\n",
       "0     2017-04-27         2016-12-02   2018-02-08           4403   \n",
       "1     2017-03-06         2017-03-05   2018-02-04           4444   \n",
       "2     2018-02-01         2018-01-27   2018-02-03           4388   \n",
       "3     2018-01-17         2018-01-31   2018-02-04           4092   \n",
       "4     2018-01-23         2018-01-20   2018-02-09           4580   \n",
       "\n",
       "  pickupStartdate  tat_in_days  \n",
       "0      2018-02-13          5.0  \n",
       "1      2018-02-08         12.0  \n",
       "2      2018-02-12          9.0  \n",
       "3      2018-02-14          9.0  \n",
       "4      2018-02-14          8.0  "
      ]
     },
     "execution_count": 4,
     "metadata": {},
     "output_type": "execute_result"
    }
   ],
   "source": [
    "combined = pd.concat([df_train, df_test], ignore_index=True, sort = False)\n",
    "combined.head()"
   ]
  },
  {
   "cell_type": "code",
   "execution_count": 5,
   "metadata": {},
   "outputs": [
    {
     "data": {
      "text/plain": [
       "41"
      ]
     },
     "execution_count": 5,
     "metadata": {},
     "output_type": "execute_result"
    }
   ],
   "source": [
    "len(combined.mobmake.unique())"
   ]
  },
  {
   "cell_type": "code",
   "execution_count": 6,
   "metadata": {},
   "outputs": [
    {
     "data": {
      "text/html": [
       "<div>\n",
       "<style scoped>\n",
       "    .dataframe tbody tr th:only-of-type {\n",
       "        vertical-align: middle;\n",
       "    }\n",
       "\n",
       "    .dataframe tbody tr th {\n",
       "        vertical-align: top;\n",
       "    }\n",
       "\n",
       "    .dataframe thead th {\n",
       "        text-align: right;\n",
       "    }\n",
       "</style>\n",
       "<table border=\"1\" class=\"dataframe\">\n",
       "  <thead>\n",
       "    <tr style=\"text-align: right;\">\n",
       "      <th></th>\n",
       "      <th>srno</th>\n",
       "      <th>mobmake</th>\n",
       "      <th>hubid</th>\n",
       "      <th>hubpincode</th>\n",
       "      <th>pickuppartnerid</th>\n",
       "      <th>deliverypartnerid</th>\n",
       "      <th>insuranceCompanyId</th>\n",
       "      <th>custpincodecategory</th>\n",
       "      <th>claimtype</th>\n",
       "      <th>custpincode</th>\n",
       "      <th>memcreateddate</th>\n",
       "      <th>mobilepurchasedate</th>\n",
       "      <th>claimintdate</th>\n",
       "      <th>servicecntrid</th>\n",
       "      <th>pickupStartdate</th>\n",
       "      <th>tat_in_days</th>\n",
       "    </tr>\n",
       "  </thead>\n",
       "  <tbody>\n",
       "    <tr>\n",
       "      <th>0</th>\n",
       "      <td>2851218</td>\n",
       "      <td>AN</td>\n",
       "      <td>7</td>\n",
       "      <td>500004</td>\n",
       "      <td>233</td>\n",
       "      <td>233</td>\n",
       "      <td>131</td>\n",
       "      <td>A</td>\n",
       "      <td>ADLD</td>\n",
       "      <td>500001</td>\n",
       "      <td>2017-04-27</td>\n",
       "      <td>2016-12-02</td>\n",
       "      <td>2018-02-08</td>\n",
       "      <td>4403</td>\n",
       "      <td>2018-02-13</td>\n",
       "      <td>5.0</td>\n",
       "    </tr>\n",
       "    <tr>\n",
       "      <th>1</th>\n",
       "      <td>2838330</td>\n",
       "      <td>AJ</td>\n",
       "      <td>10</td>\n",
       "      <td>226010</td>\n",
       "      <td>233</td>\n",
       "      <td>233</td>\n",
       "      <td>131</td>\n",
       "      <td>A</td>\n",
       "      <td>ADLD</td>\n",
       "      <td>226022</td>\n",
       "      <td>2017-03-06</td>\n",
       "      <td>2017-03-05</td>\n",
       "      <td>2018-02-04</td>\n",
       "      <td>4444</td>\n",
       "      <td>2018-02-08</td>\n",
       "      <td>12.0</td>\n",
       "    </tr>\n",
       "    <tr>\n",
       "      <th>2</th>\n",
       "      <td>2835781</td>\n",
       "      <td>AJ</td>\n",
       "      <td>2</td>\n",
       "      <td>110018</td>\n",
       "      <td>233</td>\n",
       "      <td>233</td>\n",
       "      <td>228</td>\n",
       "      <td>A</td>\n",
       "      <td>ADLD</td>\n",
       "      <td>110018</td>\n",
       "      <td>2018-02-01</td>\n",
       "      <td>2018-01-27</td>\n",
       "      <td>2018-02-03</td>\n",
       "      <td>4388</td>\n",
       "      <td>2018-02-12</td>\n",
       "      <td>9.0</td>\n",
       "    </tr>\n",
       "    <tr>\n",
       "      <th>3</th>\n",
       "      <td>2838589</td>\n",
       "      <td>AM</td>\n",
       "      <td>2</td>\n",
       "      <td>110018</td>\n",
       "      <td>233</td>\n",
       "      <td>233</td>\n",
       "      <td>228</td>\n",
       "      <td>B</td>\n",
       "      <td>ADLD</td>\n",
       "      <td>124001</td>\n",
       "      <td>2018-01-17</td>\n",
       "      <td>2018-01-31</td>\n",
       "      <td>2018-02-04</td>\n",
       "      <td>4092</td>\n",
       "      <td>2018-02-14</td>\n",
       "      <td>9.0</td>\n",
       "    </tr>\n",
       "    <tr>\n",
       "      <th>4</th>\n",
       "      <td>2855214</td>\n",
       "      <td>AN</td>\n",
       "      <td>21</td>\n",
       "      <td>110015</td>\n",
       "      <td>233</td>\n",
       "      <td>233</td>\n",
       "      <td>131</td>\n",
       "      <td>A</td>\n",
       "      <td>ADLD</td>\n",
       "      <td>201301</td>\n",
       "      <td>2018-01-23</td>\n",
       "      <td>2018-01-20</td>\n",
       "      <td>2018-02-09</td>\n",
       "      <td>4580</td>\n",
       "      <td>2018-02-14</td>\n",
       "      <td>8.0</td>\n",
       "    </tr>\n",
       "  </tbody>\n",
       "</table>\n",
       "</div>"
      ],
      "text/plain": [
       "      srno mobmake  hubid  hubpincode  pickuppartnerid  deliverypartnerid  \\\n",
       "0  2851218      AN      7      500004              233                233   \n",
       "1  2838330      AJ     10      226010              233                233   \n",
       "2  2835781      AJ      2      110018              233                233   \n",
       "3  2838589      AM      2      110018              233                233   \n",
       "4  2855214      AN     21      110015              233                233   \n",
       "\n",
       "   insuranceCompanyId custpincodecategory claimtype  custpincode  \\\n",
       "0                 131                   A      ADLD       500001   \n",
       "1                 131                   A      ADLD       226022   \n",
       "2                 228                   A      ADLD       110018   \n",
       "3                 228                   B      ADLD       124001   \n",
       "4                 131                   A      ADLD       201301   \n",
       "\n",
       "  memcreateddate mobilepurchasedate claimintdate  servicecntrid  \\\n",
       "0     2017-04-27         2016-12-02   2018-02-08           4403   \n",
       "1     2017-03-06         2017-03-05   2018-02-04           4444   \n",
       "2     2018-02-01         2018-01-27   2018-02-03           4388   \n",
       "3     2018-01-17         2018-01-31   2018-02-04           4092   \n",
       "4     2018-01-23         2018-01-20   2018-02-09           4580   \n",
       "\n",
       "  pickupStartdate  tat_in_days  \n",
       "0      2018-02-13          5.0  \n",
       "1      2018-02-08         12.0  \n",
       "2      2018-02-12          9.0  \n",
       "3      2018-02-14          9.0  \n",
       "4      2018-02-14          8.0  "
      ]
     },
     "execution_count": 6,
     "metadata": {},
     "output_type": "execute_result"
    }
   ],
   "source": [
    "combined.head()"
   ]
  },
  {
   "cell_type": "code",
   "execution_count": 7,
   "metadata": {},
   "outputs": [
    {
     "data": {
      "text/plain": [
       "Index(['srno', 'mobmake', 'hubid', 'hubpincode', 'pickuppartnerid',\n",
       "       'deliverypartnerid', 'insuranceCompanyId', 'custpincodecategory',\n",
       "       'claimtype', 'custpincode', 'memcreateddate', 'mobilepurchasedate',\n",
       "       'claimintdate', 'servicecntrid', 'pickupStartdate', 'tat_in_days'],\n",
       "      dtype='object')"
      ]
     },
     "execution_count": 7,
     "metadata": {},
     "output_type": "execute_result"
    }
   ],
   "source": [
    "combined.columns"
   ]
  },
  {
   "cell_type": "markdown",
   "metadata": {},
   "source": [
    "# Checking for null values"
   ]
  },
  {
   "cell_type": "code",
   "execution_count": 8,
   "metadata": {},
   "outputs": [
    {
     "data": {
      "text/plain": [
       "srno                      0\n",
       "mobmake                   0\n",
       "hubid                     0\n",
       "hubpincode                0\n",
       "pickuppartnerid           0\n",
       "deliverypartnerid         0\n",
       "insuranceCompanyId        0\n",
       "custpincodecategory       0\n",
       "claimtype                 0\n",
       "custpincode               0\n",
       "memcreateddate            0\n",
       "mobilepurchasedate        0\n",
       "claimintdate              0\n",
       "servicecntrid             0\n",
       "pickupStartdate           0\n",
       "tat_in_days            2116\n",
       "dtype: int64"
      ]
     },
     "execution_count": 8,
     "metadata": {},
     "output_type": "execute_result"
    }
   ],
   "source": [
    "combined.isnull().sum()"
   ]
  },
  {
   "cell_type": "markdown",
   "metadata": {},
   "source": [
    "# There are no null values"
   ]
  },
  {
   "cell_type": "markdown",
   "metadata": {},
   "source": [
    "# Converting string dates to datetime object"
   ]
  },
  {
   "cell_type": "code",
   "execution_count": 9,
   "metadata": {},
   "outputs": [],
   "source": [
    "combined.mobilepurchasedate = pd.to_datetime(combined.mobilepurchasedate)\n",
    "combined.claimintdate = pd.to_datetime(combined.claimintdate)\n",
    "combined.memcreateddate = pd.to_datetime(combined.memcreateddate)\n",
    "combined.pickupStartdate = pd.to_datetime(combined.pickupStartdate)"
   ]
  },
  {
   "cell_type": "markdown",
   "metadata": {},
   "source": [
    "# Converting categorical data to numeric values"
   ]
  },
  {
   "cell_type": "code",
   "execution_count": 10,
   "metadata": {},
   "outputs": [],
   "source": [
    "from sklearn import preprocessing\n",
    "le = preprocessing.LabelEncoder()\n",
    "combined.mobmake = le.fit_transform(combined.mobmake)\n",
    "combined.custpincodecategory = le.fit_transform(combined.custpincodecategory)\n",
    "combined.claimtype = le.fit_transform(combined.claimtype)"
   ]
  },
  {
   "cell_type": "code",
   "execution_count": 11,
   "metadata": {},
   "outputs": [],
   "source": [
    "df_train = combined.loc[:6249,:]\n",
    "df_test = combined.loc[6250:,:]\n",
    "df_test = df_test.drop(['tat_in_days'], axis = 1)"
   ]
  },
  {
   "cell_type": "code",
   "execution_count": 12,
   "metadata": {},
   "outputs": [
    {
     "name": "stdout",
     "output_type": "stream",
     "text": [
      "(6250, 16)\n",
      "(2116, 15)\n"
     ]
    }
   ],
   "source": [
    "print(df_train.shape)\n",
    "print(df_test.shape)"
   ]
  },
  {
   "cell_type": "markdown",
   "metadata": {},
   "source": [
    "# Data Visualisation"
   ]
  },
  {
   "cell_type": "code",
   "execution_count": 13,
   "metadata": {},
   "outputs": [],
   "source": [
    "# Correlation\n",
    "corr = df_train.corr()"
   ]
  },
  {
   "cell_type": "code",
   "execution_count": 14,
   "metadata": {},
   "outputs": [
    {
     "data": {
      "text/html": [
       "<div>\n",
       "<style scoped>\n",
       "    .dataframe tbody tr th:only-of-type {\n",
       "        vertical-align: middle;\n",
       "    }\n",
       "\n",
       "    .dataframe tbody tr th {\n",
       "        vertical-align: top;\n",
       "    }\n",
       "\n",
       "    .dataframe thead th {\n",
       "        text-align: right;\n",
       "    }\n",
       "</style>\n",
       "<table border=\"1\" class=\"dataframe\">\n",
       "  <thead>\n",
       "    <tr style=\"text-align: right;\">\n",
       "      <th></th>\n",
       "      <th>srno</th>\n",
       "      <th>mobmake</th>\n",
       "      <th>hubid</th>\n",
       "      <th>hubpincode</th>\n",
       "      <th>pickuppartnerid</th>\n",
       "      <th>deliverypartnerid</th>\n",
       "      <th>insuranceCompanyId</th>\n",
       "      <th>custpincodecategory</th>\n",
       "      <th>claimtype</th>\n",
       "      <th>custpincode</th>\n",
       "      <th>servicecntrid</th>\n",
       "      <th>tat_in_days</th>\n",
       "    </tr>\n",
       "  </thead>\n",
       "  <tbody>\n",
       "    <tr>\n",
       "      <th>srno</th>\n",
       "      <td>1.000000</td>\n",
       "      <td>-0.017919</td>\n",
       "      <td>0.277127</td>\n",
       "      <td>-0.026209</td>\n",
       "      <td>0.082192</td>\n",
       "      <td>0.011729</td>\n",
       "      <td>0.039475</td>\n",
       "      <td>-0.048235</td>\n",
       "      <td>-0.002469</td>\n",
       "      <td>-0.011257</td>\n",
       "      <td>0.125644</td>\n",
       "      <td>-0.193610</td>\n",
       "    </tr>\n",
       "    <tr>\n",
       "      <th>mobmake</th>\n",
       "      <td>-0.017919</td>\n",
       "      <td>1.000000</td>\n",
       "      <td>-0.145374</td>\n",
       "      <td>-0.061099</td>\n",
       "      <td>0.003724</td>\n",
       "      <td>-0.001000</td>\n",
       "      <td>-0.071553</td>\n",
       "      <td>-0.003258</td>\n",
       "      <td>0.029894</td>\n",
       "      <td>-0.028414</td>\n",
       "      <td>-0.029634</td>\n",
       "      <td>0.154389</td>\n",
       "    </tr>\n",
       "    <tr>\n",
       "      <th>hubid</th>\n",
       "      <td>0.277127</td>\n",
       "      <td>-0.145374</td>\n",
       "      <td>1.000000</td>\n",
       "      <td>-0.055715</td>\n",
       "      <td>0.033957</td>\n",
       "      <td>-0.001304</td>\n",
       "      <td>-0.151538</td>\n",
       "      <td>0.059304</td>\n",
       "      <td>-0.003411</td>\n",
       "      <td>-0.022918</td>\n",
       "      <td>0.451190</td>\n",
       "      <td>-0.121613</td>\n",
       "    </tr>\n",
       "    <tr>\n",
       "      <th>hubpincode</th>\n",
       "      <td>-0.026209</td>\n",
       "      <td>-0.061099</td>\n",
       "      <td>-0.055715</td>\n",
       "      <td>1.000000</td>\n",
       "      <td>-0.028212</td>\n",
       "      <td>-0.020470</td>\n",
       "      <td>-0.088960</td>\n",
       "      <td>0.074681</td>\n",
       "      <td>0.010315</td>\n",
       "      <td>0.926211</td>\n",
       "      <td>0.201244</td>\n",
       "      <td>-0.001505</td>\n",
       "    </tr>\n",
       "    <tr>\n",
       "      <th>pickuppartnerid</th>\n",
       "      <td>0.082192</td>\n",
       "      <td>0.003724</td>\n",
       "      <td>0.033957</td>\n",
       "      <td>-0.028212</td>\n",
       "      <td>1.000000</td>\n",
       "      <td>0.243320</td>\n",
       "      <td>0.088534</td>\n",
       "      <td>-0.093854</td>\n",
       "      <td>-0.032520</td>\n",
       "      <td>-0.053867</td>\n",
       "      <td>0.039964</td>\n",
       "      <td>-0.085485</td>\n",
       "    </tr>\n",
       "    <tr>\n",
       "      <th>deliverypartnerid</th>\n",
       "      <td>0.011729</td>\n",
       "      <td>-0.001000</td>\n",
       "      <td>-0.001304</td>\n",
       "      <td>-0.020470</td>\n",
       "      <td>0.243320</td>\n",
       "      <td>1.000000</td>\n",
       "      <td>0.020992</td>\n",
       "      <td>0.007825</td>\n",
       "      <td>-0.063766</td>\n",
       "      <td>-0.029602</td>\n",
       "      <td>0.018962</td>\n",
       "      <td>-0.072986</td>\n",
       "    </tr>\n",
       "    <tr>\n",
       "      <th>insuranceCompanyId</th>\n",
       "      <td>0.039475</td>\n",
       "      <td>-0.071553</td>\n",
       "      <td>-0.151538</td>\n",
       "      <td>-0.088960</td>\n",
       "      <td>0.088534</td>\n",
       "      <td>0.020992</td>\n",
       "      <td>1.000000</td>\n",
       "      <td>-0.080530</td>\n",
       "      <td>0.044086</td>\n",
       "      <td>-0.094457</td>\n",
       "      <td>-0.139533</td>\n",
       "      <td>-0.033617</td>\n",
       "    </tr>\n",
       "    <tr>\n",
       "      <th>custpincodecategory</th>\n",
       "      <td>-0.048235</td>\n",
       "      <td>-0.003258</td>\n",
       "      <td>0.059304</td>\n",
       "      <td>0.074681</td>\n",
       "      <td>-0.093854</td>\n",
       "      <td>0.007825</td>\n",
       "      <td>-0.080530</td>\n",
       "      <td>1.000000</td>\n",
       "      <td>-0.005847</td>\n",
       "      <td>0.125819</td>\n",
       "      <td>0.056990</td>\n",
       "      <td>0.162138</td>\n",
       "    </tr>\n",
       "    <tr>\n",
       "      <th>claimtype</th>\n",
       "      <td>-0.002469</td>\n",
       "      <td>0.029894</td>\n",
       "      <td>-0.003411</td>\n",
       "      <td>0.010315</td>\n",
       "      <td>-0.032520</td>\n",
       "      <td>-0.063766</td>\n",
       "      <td>0.044086</td>\n",
       "      <td>-0.005847</td>\n",
       "      <td>1.000000</td>\n",
       "      <td>0.009147</td>\n",
       "      <td>-0.004271</td>\n",
       "      <td>0.078633</td>\n",
       "    </tr>\n",
       "    <tr>\n",
       "      <th>custpincode</th>\n",
       "      <td>-0.011257</td>\n",
       "      <td>-0.028414</td>\n",
       "      <td>-0.022918</td>\n",
       "      <td>0.926211</td>\n",
       "      <td>-0.053867</td>\n",
       "      <td>-0.029602</td>\n",
       "      <td>-0.094457</td>\n",
       "      <td>0.125819</td>\n",
       "      <td>0.009147</td>\n",
       "      <td>1.000000</td>\n",
       "      <td>0.207607</td>\n",
       "      <td>0.048805</td>\n",
       "    </tr>\n",
       "    <tr>\n",
       "      <th>servicecntrid</th>\n",
       "      <td>0.125644</td>\n",
       "      <td>-0.029634</td>\n",
       "      <td>0.451190</td>\n",
       "      <td>0.201244</td>\n",
       "      <td>0.039964</td>\n",
       "      <td>0.018962</td>\n",
       "      <td>-0.139533</td>\n",
       "      <td>0.056990</td>\n",
       "      <td>-0.004271</td>\n",
       "      <td>0.207607</td>\n",
       "      <td>1.000000</td>\n",
       "      <td>-0.169008</td>\n",
       "    </tr>\n",
       "    <tr>\n",
       "      <th>tat_in_days</th>\n",
       "      <td>-0.193610</td>\n",
       "      <td>0.154389</td>\n",
       "      <td>-0.121613</td>\n",
       "      <td>-0.001505</td>\n",
       "      <td>-0.085485</td>\n",
       "      <td>-0.072986</td>\n",
       "      <td>-0.033617</td>\n",
       "      <td>0.162138</td>\n",
       "      <td>0.078633</td>\n",
       "      <td>0.048805</td>\n",
       "      <td>-0.169008</td>\n",
       "      <td>1.000000</td>\n",
       "    </tr>\n",
       "  </tbody>\n",
       "</table>\n",
       "</div>"
      ],
      "text/plain": [
       "                         srno   mobmake     hubid  hubpincode  \\\n",
       "srno                 1.000000 -0.017919  0.277127   -0.026209   \n",
       "mobmake             -0.017919  1.000000 -0.145374   -0.061099   \n",
       "hubid                0.277127 -0.145374  1.000000   -0.055715   \n",
       "hubpincode          -0.026209 -0.061099 -0.055715    1.000000   \n",
       "pickuppartnerid      0.082192  0.003724  0.033957   -0.028212   \n",
       "deliverypartnerid    0.011729 -0.001000 -0.001304   -0.020470   \n",
       "insuranceCompanyId   0.039475 -0.071553 -0.151538   -0.088960   \n",
       "custpincodecategory -0.048235 -0.003258  0.059304    0.074681   \n",
       "claimtype           -0.002469  0.029894 -0.003411    0.010315   \n",
       "custpincode         -0.011257 -0.028414 -0.022918    0.926211   \n",
       "servicecntrid        0.125644 -0.029634  0.451190    0.201244   \n",
       "tat_in_days         -0.193610  0.154389 -0.121613   -0.001505   \n",
       "\n",
       "                     pickuppartnerid  deliverypartnerid  insuranceCompanyId  \\\n",
       "srno                        0.082192           0.011729            0.039475   \n",
       "mobmake                     0.003724          -0.001000           -0.071553   \n",
       "hubid                       0.033957          -0.001304           -0.151538   \n",
       "hubpincode                 -0.028212          -0.020470           -0.088960   \n",
       "pickuppartnerid             1.000000           0.243320            0.088534   \n",
       "deliverypartnerid           0.243320           1.000000            0.020992   \n",
       "insuranceCompanyId          0.088534           0.020992            1.000000   \n",
       "custpincodecategory        -0.093854           0.007825           -0.080530   \n",
       "claimtype                  -0.032520          -0.063766            0.044086   \n",
       "custpincode                -0.053867          -0.029602           -0.094457   \n",
       "servicecntrid               0.039964           0.018962           -0.139533   \n",
       "tat_in_days                -0.085485          -0.072986           -0.033617   \n",
       "\n",
       "                     custpincodecategory  claimtype  custpincode  \\\n",
       "srno                           -0.048235  -0.002469    -0.011257   \n",
       "mobmake                        -0.003258   0.029894    -0.028414   \n",
       "hubid                           0.059304  -0.003411    -0.022918   \n",
       "hubpincode                      0.074681   0.010315     0.926211   \n",
       "pickuppartnerid                -0.093854  -0.032520    -0.053867   \n",
       "deliverypartnerid               0.007825  -0.063766    -0.029602   \n",
       "insuranceCompanyId             -0.080530   0.044086    -0.094457   \n",
       "custpincodecategory             1.000000  -0.005847     0.125819   \n",
       "claimtype                      -0.005847   1.000000     0.009147   \n",
       "custpincode                     0.125819   0.009147     1.000000   \n",
       "servicecntrid                   0.056990  -0.004271     0.207607   \n",
       "tat_in_days                     0.162138   0.078633     0.048805   \n",
       "\n",
       "                     servicecntrid  tat_in_days  \n",
       "srno                      0.125644    -0.193610  \n",
       "mobmake                  -0.029634     0.154389  \n",
       "hubid                     0.451190    -0.121613  \n",
       "hubpincode                0.201244    -0.001505  \n",
       "pickuppartnerid           0.039964    -0.085485  \n",
       "deliverypartnerid         0.018962    -0.072986  \n",
       "insuranceCompanyId       -0.139533    -0.033617  \n",
       "custpincodecategory       0.056990     0.162138  \n",
       "claimtype                -0.004271     0.078633  \n",
       "custpincode               0.207607     0.048805  \n",
       "servicecntrid             1.000000    -0.169008  \n",
       "tat_in_days              -0.169008     1.000000  "
      ]
     },
     "execution_count": 14,
     "metadata": {},
     "output_type": "execute_result"
    }
   ],
   "source": [
    "corr"
   ]
  },
  {
   "cell_type": "code",
   "execution_count": 15,
   "metadata": {},
   "outputs": [
    {
     "data": {
      "image/png": "[encoded data removed]",
      "text/plain": [
       "<Figure size 2160x2160 with 2 Axes>"
      ]
     },
     "metadata": {
      "needs_background": "light"
     },
     "output_type": "display_data"
    }
   ],
   "source": [
    "plt.figure(figsize=(30, 30))\n",
    "sns.heatmap(corr, cbar = True,  square = True, annot=True, fmt= '.2f',annot_kws={'size': 15},\n",
    "           cmap= 'coolwarm')\n",
    "plt.title('Correlation between features');"
   ]
  },
  {
   "cell_type": "markdown",
   "metadata": {},
   "source": [
    "# The hubpincode and custpincode are highly correlated so we can drop one of these, we are dropping hubpincode"
   ]
  },
  {
   "cell_type": "markdown",
   "metadata": {},
   "source": [
    "# Dropping all the dates columns as there is no relation between the dates"
   ]
  },
  {
   "cell_type": "code",
   "execution_count": 16,
   "metadata": {},
   "outputs": [],
   "source": [
    "X = df_train.drop(['memcreateddate', 'mobilepurchasedate',\n",
    "       'claimintdate', 'pickupStartdate', 'hubpincode', 'tat_in_days'], axis = 1)"
   ]
  },
  {
   "cell_type": "code",
   "execution_count": 17,
   "metadata": {},
   "outputs": [],
   "source": [
    "y = df_train['tat_in_days']"
   ]
  },
  {
   "cell_type": "markdown",
   "metadata": {},
   "source": [
    "# Machine Learning"
   ]
  },
  {
   "cell_type": "code",
   "execution_count": 18,
   "metadata": {},
   "outputs": [],
   "source": [
    "from sklearn.model_selection import train_test_split"
   ]
  },
  {
   "cell_type": "code",
   "execution_count": 19,
   "metadata": {},
   "outputs": [],
   "source": [
    "X_train, X_test, y_train, y_test = train_test_split(X,y, random_state = 1)"
   ]
  },
  {
   "cell_type": "markdown",
   "metadata": {},
   "source": [
    "# Linear Regression"
   ]
  },
  {
   "cell_type": "code",
   "execution_count": 20,
   "metadata": {},
   "outputs": [
    {
     "data": {
      "text/plain": [
       "LinearRegression(copy_X=True, fit_intercept=True, n_jobs=None, normalize=False)"
      ]
     },
     "execution_count": 20,
     "metadata": {},
     "output_type": "execute_result"
    }
   ],
   "source": [
    "from sklearn.linear_model import LinearRegression\n",
    "\n",
    "linreg = LinearRegression()\n",
    "\n",
    "linreg.fit(X_train, y_train)"
   ]
  },
  {
   "cell_type": "code",
   "execution_count": 21,
   "metadata": {},
   "outputs": [],
   "source": [
    "y_pred = linreg.predict(X_test)"
   ]
  },
  {
   "cell_type": "code",
   "execution_count": 22,
   "metadata": {},
   "outputs": [
    {
     "name": "stdout",
     "output_type": "stream",
     "text": [
      "4.983350074082462\n"
     ]
    }
   ],
   "source": [
    "print(np.sqrt(metrics.mean_squared_error(y_test, y_pred)))"
   ]
  },
  {
   "cell_type": "markdown",
   "metadata": {},
   "source": [
    "# Gradient Boost"
   ]
  },
  {
   "cell_type": "code",
   "execution_count": 23,
   "metadata": {},
   "outputs": [],
   "source": [
    "from sklearn.ensemble import GradientBoostingRegressor"
   ]
  },
  {
   "cell_type": "code",
   "execution_count": 24,
   "metadata": {},
   "outputs": [],
   "source": [
    "gbreg = GradientBoostingRegressor(n_estimators=500)\n",
    "gbreg.fit(X_train, y_train)\n",
    "y_pred = gbreg.predict(X_test)"
   ]
  },
  {
   "cell_type": "code",
   "execution_count": 25,
   "metadata": {},
   "outputs": [
    {
     "name": "stdout",
     "output_type": "stream",
     "text": [
      "4.379622184058951\n"
     ]
    }
   ],
   "source": [
    "print(np.sqrt(metrics.mean_squared_error(y_test, y_pred)))"
   ]
  },
  {
   "cell_type": "markdown",
   "metadata": {},
   "source": [
    "# Ridge"
   ]
  },
  {
   "cell_type": "code",
   "execution_count": 26,
   "metadata": {},
   "outputs": [],
   "source": [
    "from sklearn.linear_model import Ridge"
   ]
  },
  {
   "cell_type": "code",
   "execution_count": 27,
   "metadata": {},
   "outputs": [],
   "source": [
    "ridge = Ridge(alpha=1.0)\n",
    "ridge.fit(X_train, y_train) \n",
    "y_pred = ridge.predict(X_test)"
   ]
  },
  {
   "cell_type": "code",
   "execution_count": 28,
   "metadata": {},
   "outputs": [
    {
     "name": "stdout",
     "output_type": "stream",
     "text": [
      "4.981494040106572\n"
     ]
    }
   ],
   "source": [
    "print(np.sqrt(metrics.mean_squared_error(y_test, y_pred)))"
   ]
  },
  {
   "cell_type": "markdown",
   "metadata": {},
   "source": [
    "# Lasso"
   ]
  },
  {
   "cell_type": "code",
   "execution_count": 29,
   "metadata": {},
   "outputs": [],
   "source": [
    "from sklearn.linear_model import Lasso"
   ]
  },
  {
   "cell_type": "code",
   "execution_count": 30,
   "metadata": {},
   "outputs": [],
   "source": [
    "lasso = Lasso(alpha=1.0)\n",
    "lasso.fit(X_train, y_train) \n",
    "y_pred = lasso.predict(X_test)"
   ]
  },
  {
   "cell_type": "code",
   "execution_count": 31,
   "metadata": {},
   "outputs": [
    {
     "name": "stdout",
     "output_type": "stream",
     "text": [
      "5.045860670256878\n"
     ]
    }
   ],
   "source": [
    "print(np.sqrt(metrics.mean_squared_error(y_test, y_pred)))"
   ]
  },
  {
   "cell_type": "markdown",
   "metadata": {},
   "source": [
    "# KNN"
   ]
  },
  {
   "cell_type": "code",
   "execution_count": 32,
   "metadata": {},
   "outputs": [],
   "source": [
    "from sklearn.neighbors import KNeighborsRegressor"
   ]
  },
  {
   "cell_type": "code",
   "execution_count": 33,
   "metadata": {},
   "outputs": [],
   "source": [
    "neigh = KNeighborsRegressor(n_neighbors=2)\n",
    "neigh.fit(X_train, y_train) \n",
    "y_pred = neigh.predict(X_test)"
   ]
  },
  {
   "cell_type": "code",
   "execution_count": 34,
   "metadata": {},
   "outputs": [
    {
     "name": "stdout",
     "output_type": "stream",
     "text": [
      "5.689502742659784\n"
     ]
    }
   ],
   "source": [
    "print(np.sqrt(metrics.mean_squared_error(y_test, y_pred)))"
   ]
  },
  {
   "cell_type": "code",
   "execution_count": 35,
   "metadata": {},
   "outputs": [
    {
     "data": {
      "text/html": [
       "<div>\n",
       "<style scoped>\n",
       "    .dataframe tbody tr th:only-of-type {\n",
       "        vertical-align: middle;\n",
       "    }\n",
       "\n",
       "    .dataframe tbody tr th {\n",
       "        vertical-align: top;\n",
       "    }\n",
       "\n",
       "    .dataframe thead th {\n",
       "        text-align: right;\n",
       "    }\n",
       "</style>\n",
       "<table border=\"1\" class=\"dataframe\">\n",
       "  <thead>\n",
       "    <tr style=\"text-align: right;\">\n",
       "      <th></th>\n",
       "      <th>Model</th>\n",
       "      <th>Training RMSE</th>\n",
       "      <th>Test RMSE</th>\n",
       "    </tr>\n",
       "  </thead>\n",
       "  <tbody>\n",
       "    <tr>\n",
       "      <th>3</th>\n",
       "      <td>Gradient Boost</td>\n",
       "      <td>3.267231</td>\n",
       "      <td>4.379622</td>\n",
       "    </tr>\n",
       "    <tr>\n",
       "      <th>1</th>\n",
       "      <td>Ridge</td>\n",
       "      <td>4.681649</td>\n",
       "      <td>4.981494</td>\n",
       "    </tr>\n",
       "    <tr>\n",
       "      <th>0</th>\n",
       "      <td>Linear Regression</td>\n",
       "      <td>4.680631</td>\n",
       "      <td>4.983350</td>\n",
       "    </tr>\n",
       "    <tr>\n",
       "      <th>2</th>\n",
       "      <td>Lasso</td>\n",
       "      <td>4.765238</td>\n",
       "      <td>5.045861</td>\n",
       "    </tr>\n",
       "    <tr>\n",
       "      <th>4</th>\n",
       "      <td>KNN Regressor</td>\n",
       "      <td>3.088534</td>\n",
       "      <td>5.689503</td>\n",
       "    </tr>\n",
       "  </tbody>\n",
       "</table>\n",
       "</div>"
      ],
      "text/plain": [
       "               Model  Training RMSE  Test RMSE\n",
       "3     Gradient Boost       3.267231   4.379622\n",
       "1              Ridge       4.681649   4.981494\n",
       "0  Linear Regression       4.680631   4.983350\n",
       "2              Lasso       4.765238   5.045861\n",
       "4      KNN Regressor       3.088534   5.689503"
      ]
     },
     "execution_count": 35,
     "metadata": {},
     "output_type": "execute_result"
    }
   ],
   "source": [
    "models = pd.DataFrame({\n",
    "    'Model': ['Linear Regression', 'Ridge', 'Lasso','Gradient Boost','KNN Regressor'],\n",
    "    'Training RMSE': [ np.sqrt(metrics.mean_squared_error(y_train, linreg.predict(X_train))), np.sqrt(metrics.mean_squared_error(y_train, ridge.predict(X_train))), np.sqrt(metrics.mean_squared_error(y_train, lasso.predict(X_train))), np.sqrt(metrics.mean_squared_error(y_train, gbreg.predict(X_train))), np.sqrt(metrics.mean_squared_error(y_train, neigh.predict(X_train)))],\n",
    "    'Test RMSE': [ np.sqrt(metrics.mean_squared_error(y_test, linreg.predict(X_test))), np.sqrt(metrics.mean_squared_error(y_test, ridge.predict(X_test))), np.sqrt(metrics.mean_squared_error(y_test, lasso.predict(X_test))), np.sqrt(metrics.mean_squared_error(y_test, gbreg.predict(X_test))), np.sqrt(metrics.mean_squared_error(y_test, neigh.predict(X_test)))]\n",
    "    })\n",
    "models.sort_values(by='Test RMSE')"
   ]
  },
  {
   "cell_type": "markdown",
   "metadata": {},
   "source": [
    "# Loading the test data"
   ]
  },
  {
   "cell_type": "code",
   "execution_count": 36,
   "metadata": {},
   "outputs": [
    {
     "data": {
      "text/html": [
       "<div>\n",
       "<style scoped>\n",
       "    .dataframe tbody tr th:only-of-type {\n",
       "        vertical-align: middle;\n",
       "    }\n",
       "\n",
       "    .dataframe tbody tr th {\n",
       "        vertical-align: top;\n",
       "    }\n",
       "\n",
       "    .dataframe thead th {\n",
       "        text-align: right;\n",
       "    }\n",
       "</style>\n",
       "<table border=\"1\" class=\"dataframe\">\n",
       "  <thead>\n",
       "    <tr style=\"text-align: right;\">\n",
       "      <th></th>\n",
       "      <th>srno</th>\n",
       "      <th>mobmake</th>\n",
       "      <th>hubid</th>\n",
       "      <th>hubpincode</th>\n",
       "      <th>pickuppartnerid</th>\n",
       "      <th>deliverypartnerid</th>\n",
       "      <th>insuranceCompanyId</th>\n",
       "      <th>custpincodecategory</th>\n",
       "      <th>claimtype</th>\n",
       "      <th>custpincode</th>\n",
       "      <th>memcreateddate</th>\n",
       "      <th>mobilepurchasedate</th>\n",
       "      <th>claimintdate</th>\n",
       "      <th>servicecntrid</th>\n",
       "      <th>pickupStartdate</th>\n",
       "    </tr>\n",
       "  </thead>\n",
       "  <tbody>\n",
       "    <tr>\n",
       "      <th>6250</th>\n",
       "      <td>2829088</td>\n",
       "      <td>14</td>\n",
       "      <td>3</td>\n",
       "      <td>560011</td>\n",
       "      <td>233</td>\n",
       "      <td>233</td>\n",
       "      <td>131</td>\n",
       "      <td>1</td>\n",
       "      <td>0</td>\n",
       "      <td>560093</td>\n",
       "      <td>2017-07-30</td>\n",
       "      <td>2017-07-27</td>\n",
       "      <td>2018-02-01</td>\n",
       "      <td>4467</td>\n",
       "      <td>2018-02-06</td>\n",
       "    </tr>\n",
       "    <tr>\n",
       "      <th>6251</th>\n",
       "      <td>2829866</td>\n",
       "      <td>10</td>\n",
       "      <td>2</td>\n",
       "      <td>110018</td>\n",
       "      <td>233</td>\n",
       "      <td>233</td>\n",
       "      <td>228</td>\n",
       "      <td>1</td>\n",
       "      <td>0</td>\n",
       "      <td>110034</td>\n",
       "      <td>2017-07-17</td>\n",
       "      <td>2017-01-25</td>\n",
       "      <td>2018-02-01</td>\n",
       "      <td>4388</td>\n",
       "      <td>2018-02-08</td>\n",
       "    </tr>\n",
       "    <tr>\n",
       "      <th>6252</th>\n",
       "      <td>2894489</td>\n",
       "      <td>10</td>\n",
       "      <td>3</td>\n",
       "      <td>560011</td>\n",
       "      <td>233</td>\n",
       "      <td>233</td>\n",
       "      <td>228</td>\n",
       "      <td>3</td>\n",
       "      <td>0</td>\n",
       "      <td>590014</td>\n",
       "      <td>2018-01-12</td>\n",
       "      <td>2018-01-11</td>\n",
       "      <td>2018-02-21</td>\n",
       "      <td>4460</td>\n",
       "      <td>2018-02-28</td>\n",
       "    </tr>\n",
       "    <tr>\n",
       "      <th>6253</th>\n",
       "      <td>2876708</td>\n",
       "      <td>10</td>\n",
       "      <td>2</td>\n",
       "      <td>110018</td>\n",
       "      <td>233</td>\n",
       "      <td>233</td>\n",
       "      <td>228</td>\n",
       "      <td>2</td>\n",
       "      <td>0</td>\n",
       "      <td>250110</td>\n",
       "      <td>2017-08-07</td>\n",
       "      <td>2017-05-21</td>\n",
       "      <td>2018-02-16</td>\n",
       "      <td>4388</td>\n",
       "      <td>2018-02-26</td>\n",
       "    </tr>\n",
       "    <tr>\n",
       "      <th>6254</th>\n",
       "      <td>2890283</td>\n",
       "      <td>14</td>\n",
       "      <td>22</td>\n",
       "      <td>400104</td>\n",
       "      <td>233</td>\n",
       "      <td>233</td>\n",
       "      <td>131</td>\n",
       "      <td>3</td>\n",
       "      <td>0</td>\n",
       "      <td>496001</td>\n",
       "      <td>2017-11-10</td>\n",
       "      <td>2017-09-22</td>\n",
       "      <td>2018-02-20</td>\n",
       "      <td>4581</td>\n",
       "      <td>2018-02-23</td>\n",
       "    </tr>\n",
       "  </tbody>\n",
       "</table>\n",
       "</div>"
      ],
      "text/plain": [
       "         srno  mobmake  hubid  hubpincode  pickuppartnerid  deliverypartnerid  \\\n",
       "6250  2829088       14      3      560011              233                233   \n",
       "6251  2829866       10      2      110018              233                233   \n",
       "6252  2894489       10      3      560011              233                233   \n",
       "6253  2876708       10      2      110018              233                233   \n",
       "6254  2890283       14     22      400104              233                233   \n",
       "\n",
       "      insuranceCompanyId  custpincodecategory  claimtype  custpincode  \\\n",
       "6250                 131                    1          0       560093   \n",
       "6251                 228                    1          0       110034   \n",
       "6252                 228                    3          0       590014   \n",
       "6253                 228                    2          0       250110   \n",
       "6254                 131                    3          0       496001   \n",
       "\n",
       "     memcreateddate mobilepurchasedate claimintdate  servicecntrid  \\\n",
       "6250     2017-07-30         2017-07-27   2018-02-01           4467   \n",
       "6251     2017-07-17         2017-01-25   2018-02-01           4388   \n",
       "6252     2018-01-12         2018-01-11   2018-02-21           4460   \n",
       "6253     2017-08-07         2017-05-21   2018-02-16           4388   \n",
       "6254     2017-11-10         2017-09-22   2018-02-20           4581   \n",
       "\n",
       "     pickupStartdate  \n",
       "6250      2018-02-06  \n",
       "6251      2018-02-08  \n",
       "6252      2018-02-28  \n",
       "6253      2018-02-26  \n",
       "6254      2018-02-23  "
      ]
     },
     "execution_count": 36,
     "metadata": {},
     "output_type": "execute_result"
    }
   ],
   "source": [
    "df_test.head()"
   ]
  },
  {
   "cell_type": "code",
   "execution_count": 37,
   "metadata": {},
   "outputs": [],
   "source": [
    "X_test = df_test.drop(['memcreateddate', 'mobilepurchasedate',\n",
    "       'claimintdate', 'hubpincode', 'pickupStartdate'], axis = 1)"
   ]
  },
  {
   "cell_type": "code",
   "execution_count": 38,
   "metadata": {},
   "outputs": [
    {
     "data": {
      "text/plain": [
       "10"
      ]
     },
     "execution_count": 38,
     "metadata": {},
     "output_type": "execute_result"
    }
   ],
   "source": [
    "len(X_test.columns)"
   ]
  },
  {
   "cell_type": "code",
   "execution_count": 39,
   "metadata": {},
   "outputs": [],
   "source": [
    "gbreg = GradientBoostingRegressor(n_estimators=500)\n",
    "gbreg.fit(X, y)\n",
    "y_pred = pd.DataFrame(gbreg.predict(X_test))"
   ]
  },
  {
   "cell_type": "code",
   "execution_count": 40,
   "metadata": {},
   "outputs": [],
   "source": [
    "y_pred.to_csv('test_data_answers.csv', index=False, header=['tat_in_days'])"
   ]
  },
  {
   "cell_type": "code",
   "execution_count": 41,
   "metadata": {},
   "outputs": [],
   "source": [
    "df_test['tat_in_days'] = y_pred\n",
    "df_test.to_csv('test_data with answers.csv')"
   ]
  }
 ],
 "metadata": {
  "kernelspec": {
   "display_name": "Python 3",
   "language": "python",
   "name": "python3"
  },
  "language_info": {
   "codemirror_mode": {
    "name": "ipython",
    "version": 3
   },
   "file_extension": ".py",
   "mimetype": "text/x-python",
   "name": "python",
   "nbconvert_exporter": "python",
   "pygments_lexer": "ipython3",
   "version": "3.7.3"
  }
 },
 "nbformat": 4,
 "nbformat_minor": 2
}
